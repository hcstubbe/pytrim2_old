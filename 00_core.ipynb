{
 "cells": [
  {
   "cell_type": "code",
   "execution_count": 1,
   "metadata": {},
   "outputs": [],
   "source": [
    "# default_exp core"
   ]
  },
  {
   "cell_type": "markdown",
   "metadata": {},
   "source": [
    "# pytrim2\n",
    "\n",
    "> A python program for trimming and demultiplexing nanopore reads."
   ]
  },
  {
   "cell_type": "code",
   "execution_count": 210,
   "metadata": {},
   "outputs": [],
   "source": [
    "#hide\n",
    "\n",
    "from nbdev.showdoc import *"
   ]
  },
  {
   "cell_type": "code",
   "execution_count": 211,
   "metadata": {},
   "outputs": [],
   "source": [
    "#export\n",
    "\n",
    "# Import dependencies\n",
    "from Bio import SeqIO\n",
    "from Bio import Align\n",
    "from Bio.Seq import Seq\n",
    "import numpy as np"
   ]
  },
  {
   "cell_type": "code",
   "execution_count": 220,
   "metadata": {},
   "outputs": [],
   "source": [
    "#export\n",
    "\n",
    "def findAlingments(record_dict, barcode_primer, inward_end, max_alignments):\n",
    "    \n",
    "    record_keys = list(record_dict.keys())\n",
    "\n",
    "    aligner = Align.PairwiseAligner()\n",
    "    aligner.match_score = 1.0\n",
    "    aligner.mismatch_score = 0\n",
    "    aligner.gap_score = -2\n",
    "    aligner.mode = \"local\"\n",
    "\n",
    "    n_sequences = len(record_keys)\n",
    "\n",
    "    array_cols = max_alignments + 2\n",
    "    al_array = np.zeros( (n_sequences, array_cols) )\n",
    "\n",
    "    for i in list(range(0, n_sequences, 1)):\n",
    "        al = []\n",
    "        seq = record_dict[record_keys[i]].seq[0:inward_end]        \n",
    "        alignments = aligner.align(seq, barcode_primer)\n",
    "        len_alignments = len(alignments)\n",
    "        if(len_alignments <= max_alignments):\n",
    "            score = alignments.score\n",
    "            al = [j.aligned for j in alignments]\n",
    "            len_al = len(al)\n",
    "            for k in range(0, len_al):\n",
    "                al[k] = (al[k][0][0][1])\n",
    "            al_array[i, 0:len(al)] = al # ends of each alignment\n",
    "            al_array[i, -3] = max(al) # maximum posistion of each alignment\n",
    "            al_array[i, -2] = len_alignments # number of alingments\n",
    "            al_array[i, -1] = np.around(alignments.score/len(barcode_primer)*100) # normalized local alingnment score\n",
    "            \n",
    "    return(al_array)\n",
    "    \n",
    "    "
   ]
  },
  {
   "cell_type": "code",
   "execution_count": 221,
   "metadata": {},
   "outputs": [],
   "source": [
    "#hide\n",
    "\n",
    "record_dict = SeqIO.index(\"test_data/test.fasta\", \"fasta\")\n",
    "barcode_primer = Seq(\"CGCTCAGTTC\")\n",
    "ends = findAlingments(record_dict, barcode_primer, 200, 10)"
   ]
  },
  {
   "cell_type": "code",
   "execution_count": 214,
   "metadata": {},
   "outputs": [],
   "source": [
    "#export\n",
    "\n",
    "def align_barcodes(primer_dict, record_dict, inward_end, max_alignments):\n",
    "    primer_keys = list(primer_dict.keys())\n",
    "    n_primers = len(primer_keys)\n",
    "    # alingments_array = np.zeros( (n_primers, max_alignments + 2) )\n",
    "    alingments = list( range(0, n_primers) )\n",
    "    for i in list(range(0, n_primers, 1)):\n",
    "        primer_seq_i = primer_dict[primer_keys[i]].seq\n",
    "    \n",
    "        alingments[i] = findAlingments(record_dict, primer_seq_i, 200, max_alignments)\n",
    "    return(alingments)"
   ]
  },
  {
   "cell_type": "code",
   "execution_count": 215,
   "metadata": {},
   "outputs": [
    {
     "data": {
      "text/plain": [
       "[array([[ 24.,   0.,   0.,   0.,   0.,   0.,  24.,   1., 100.],\n",
       "        [ 16.,  59.,  72., 153.,   0.,   0., 153.,   4.,  60.],\n",
       "        [149., 156., 179.,   0.,   0.,   0., 179.,   3.,  60.]]),\n",
       " array([[ 43., 197.,   0.,   0.,   0.,   0., 197.,   2.,  60.],\n",
       "        [ 31.,   0.,   0.,   0.,   0.,   0.,  31.,   1., 100.],\n",
       "        [ 28.,  97., 186.,   0.,   0.,   0., 186.,   3.,  60.]]),\n",
       " array([[ 75., 100., 103., 109.,   0.,   0., 109.,   4.,  50.],\n",
       "        [  8.,  29.,   0.,   0.,   0.,   0.,  29.,   2.,  60.],\n",
       "        [ 29.,   0.,   0.,   0.,   0.,   0.,  29.,   1., 100.]]),\n",
       " array([[ 94., 189.,   0.,   0.,   0.,   0., 189.,   2.,  50.],\n",
       "        [ 76.,   0.,   0.,   0.,   0.,   0.,  76.,   1.,  70.],\n",
       "        [126.,   0.,   0.,   0.,   0.,   0., 126.,   1.,  70.]]),\n",
       " array([[ 27., 103., 118.,   0.,   0.,   0., 118.,   3.,  60.],\n",
       "        [ 30.,  86., 198.,   0.,   0.,   0., 198.,   3.,  60.],\n",
       "        [108., 117.,   0.,   0.,   0.,   0., 117.,   2.,  60.]]),\n",
       " array([[ 18.,   0.,   0.,   0.,   0.,   0.,  18.,   1.,  70.],\n",
       "        [ 14.,  22.,  56.,  89., 177.,   0., 177.,   5.,  50.],\n",
       "        [  0.,   0.,   0.,   0.,   0.,   0.,   0.,   0.,   0.]])]"
      ]
     },
     "execution_count": 215,
     "metadata": {},
     "output_type": "execute_result"
    }
   ],
   "source": [
    "#hide\n",
    "\n",
    "primer_dict = SeqIO.index(\"test_data/test_primer.fasta\", \"fasta\")\n",
    "record_dict = SeqIO.index(\"test_data/test.fasta\", \"fasta\")\n",
    "alginment_arrays = align_barcodes(primer_dict, record_dict, 200, 7)\n",
    "alginment_arrays"
   ]
  },
  {
   "cell_type": "code",
   "execution_count": 195,
   "metadata": {},
   "outputs": [
    {
     "name": "stdout",
     "output_type": "stream",
     "text": [
      "100.0\n",
      "0.0\n",
      "0.0\n",
      "197.0\n",
      "100.0\n",
      "0.0\n",
      "0.0\n",
      "60.0\n",
      "100.0\n",
      "189.0\n",
      "76.0\n",
      "126.0\n",
      "0.0\n",
      "0.0\n",
      "117.0\n",
      "70.0\n",
      "0.0\n",
      "0.0\n"
     ]
    }
   ],
   "source": [
    "for i in alginment_arrays:\n",
    "    for j in i:\n",
    "        print(np.max(j))\n",
    "        #x = np.max(j[1:,range(0, j.shape[1] - 2)])\n",
    "        #print(x)"
   ]
  },
  {
   "cell_type": "code",
   "execution_count": 177,
   "metadata": {},
   "outputs": [
    {
     "data": {
      "text/plain": [
       "array([[18.,  0.,  1., 70.],\n",
       "       [ 0.,  0.,  0.,  0.],\n",
       "       [ 0.,  0.,  0.,  0.]])"
      ]
     },
     "execution_count": 177,
     "metadata": {},
     "output_type": "execute_result"
    }
   ],
   "source": [
    "x"
   ]
  },
  {
   "cell_type": "code",
   "execution_count": 148,
   "metadata": {},
   "outputs": [
    {
     "name": "stdout",
     "output_type": "stream",
     "text": [
      "1\n",
      "[[[ 24.   0.   1. 100.]]]\n",
      "1\n",
      "[[[ 31.   0.   1. 100.]]]\n",
      "1\n",
      "[[[ 29.   0.   1. 100.]]]\n",
      "0\n",
      "[]\n",
      "0\n",
      "[]\n",
      "0\n",
      "[]\n"
     ]
    }
   ],
   "source": [
    "# hide \n",
    "for i in alginment_arrays:\n",
    "    print(np.sum((i[:,-1] >= 85) & (i[:,-2] == 1)))\n",
    "    print(i[np.where(i[:,-1] >= 85),:])"
   ]
  },
  {
   "cell_type": "code",
   "execution_count": null,
   "metadata": {},
   "outputs": [],
   "source": [
    "#slow\n",
    "\n",
    "primer_dict = SeqIO.index(\"test_data/test_primer.fasta\", \"fasta\")\n",
    "record_dict = SeqIO.index(\"test_data/test.fastq\", \"fastq\")\n",
    "alginment_arrays = align_barcodes(primer_dict, record_dict, 200, 10)\n",
    "\n",
    "for i in alginment_arrays:\n",
    "    print(np.sum(i[:,-1] >= 85))\n",
    "    print(i[np.where(i[:,-1] >= 85),:])"
   ]
  },
  {
   "cell_type": "code",
   "execution_count": null,
   "metadata": {},
   "outputs": [],
   "source": []
  }
 ],
 "metadata": {
  "kernelspec": {
   "display_name": "Python 3 (ipykernel)",
   "language": "python",
   "name": "python3"
  },
  "language_info": {
   "codemirror_mode": {
    "name": "ipython",
    "version": 3
   },
   "file_extension": ".py",
   "mimetype": "text/x-python",
   "name": "python",
   "nbconvert_exporter": "python",
   "pygments_lexer": "ipython3",
   "version": "3.8.12"
  }
 },
 "nbformat": 4,
 "nbformat_minor": 4
}
