{
 "cells": [
  {
   "cell_type": "code",
   "execution_count": null,
   "metadata": {},
   "outputs": [],
   "source": [
    "# default_exp core"
   ]
  },
  {
   "cell_type": "markdown",
   "metadata": {},
   "source": [
    "# pytrim2\n",
    "\n",
    "> A python program for trimming and demultiplexing naopore reads."
   ]
  },
  {
   "cell_type": "code",
   "execution_count": null,
   "metadata": {},
   "outputs": [],
   "source": [
    "#hide\n",
    "from nbdev.showdoc import *"
   ]
  },
  {
   "cell_type": "code",
   "execution_count": null,
   "metadata": {},
   "outputs": [],
   "source": [
    "#export\n",
    "# Import dependencies\n",
    "from Bio import SeqIO\n",
    "from Bio import pairwise2\n",
    "import numpy as np"
   ]
  },
  {
   "cell_type": "code",
   "execution_count": null,
   "metadata": {},
   "outputs": [],
   "source": [
    "#export\n",
    "\n",
    "def findAdapter(seq_record, barcode_primer):\n",
    "    # Alignment using pairwise2\n",
    "    alignments = pairwise2.align.localms(seq_record.seq, barcode_primer, 1, 0, -2, -2)\n",
    "\n",
    "    # Find best match\n",
    "    alingmentAccuracy = np.array( [i.score for i in alignments]  )\n",
    "    alingmentEnd = np.array( [i.end for i in alignments]  )\n",
    "    maxAcc = np.max(alingmentAccuracy)\n",
    "    maxAcc = np.max(alingmentAccuracy)\n",
    "    maxAccAlignment = np.where(alingmentAccuracy == maxAcc)[0]\n",
    "    inwardAlingmentEnd = np.max(alingmentEnd[maxAccAlignment])\n",
    "    inwardAlingmentEnd\n",
    "\n",
    "    if maxAcc > 90:\n",
    "        print(\"TRUE\")"
   ]
  },
  {
   "cell_type": "code",
   "execution_count": null,
   "metadata": {},
   "outputs": [],
   "source": [
    "#hide\n",
    "\n",
    "# Import test data and run findAdapter on test data\n"
   ]
  }
 ],
 "metadata": {
  "kernelspec": {
   "display_name": "Python 3 (ipykernel)",
   "language": "python",
   "name": "python3"
  }
 },
 "nbformat": 4,
 "nbformat_minor": 4
}
