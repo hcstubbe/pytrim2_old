{
 "cells": [
  {
   "cell_type": "code",
   "execution_count": null,
   "metadata": {},
   "outputs": [],
   "source": [
    "# default_exp core"
   ]
  },
  {
   "cell_type": "markdown",
   "metadata": {},
   "source": [
    "# pytrim2\n",
    "\n",
    "> A python program for trimming and demultiplexing nanopore reads."
   ]
  },
  {
   "cell_type": "code",
   "execution_count": null,
   "metadata": {},
   "outputs": [],
   "source": [
    "#hide\n",
    "\n",
    "from nbdev.showdoc import *"
   ]
  },
  {
   "cell_type": "code",
   "execution_count": null,
   "metadata": {},
   "outputs": [],
   "source": [
    "#export\n",
    "\n",
    "# Import dependencies\n",
    "from Bio import SeqIO\n",
    "from Bio import Align\n",
    "from Bio.Seq import Seq\n",
    "import numpy as np"
   ]
  },
  {
   "cell_type": "code",
   "execution_count": null,
   "metadata": {},
   "outputs": [],
   "source": [
    "#export\n",
    "\n",
    "def findAlingments(record_dict, barcode_primer, inward_end, max_alignments):\n",
    "    \n",
    "    record_keys = list(record_dict.keys())\n",
    "\n",
    "    aligner = Align.PairwiseAligner()\n",
    "    aligner.match_score = 1.0\n",
    "    aligner.mismatch_score = 0\n",
    "    aligner.gap_score = -2\n",
    "    aligner.mode = \"local\"\n",
    "\n",
    "    n_sequences = len(record_keys)\n",
    "\n",
    "    array_cols = max_alignments + 2\n",
    "    al_array = np.zeros( (n_sequences, array_cols) )\n",
    "\n",
    "    for i in list(range(0, n_sequences, 1)):\n",
    "        al = []\n",
    "        seq = record_dict[record_keys[i]].seq[0:inward_end]        \n",
    "        alignments = aligner.align(seq, barcode_primer)\n",
    "        len_alignments = len(alignments)\n",
    "        if(len_alignments <= max_alignments):\n",
    "            score = alignments.score\n",
    "            al = [j.aligned for j in alignments]\n",
    "            len_al = len(al)\n",
    "            for k in range(0, len_al):\n",
    "                al[k] = (al[k][0][0][1])\n",
    "            al_array[i, 0:len(al)] = al # ends of each alignment\n",
    "            al_array[i, -2] = len_alignments # number of alingments\n",
    "            al_array[i, -1] = np.around(alignments.score/len(barcode_primer)*100) # normalized local alingnment score\n",
    "            \n",
    "    return(al_array)\n",
    "    \n",
    "    "
   ]
  },
  {
   "cell_type": "code",
   "execution_count": null,
   "metadata": {},
   "outputs": [
    {
     "name": "stdout",
     "output_type": "stream",
     "text": [
      "[[ 90. 187.   0.   0.   0.   0.   0.   0.   0.   0.   2.  70.]\n",
      " [ 16.  34.  59.  72. 153.   0.   0.   0.   0.   0.   5.  60.]\n",
      " [ 36. 149. 156. 179.   0.   0.   0.   0.   0.   0.   4.  60.]]\n"
     ]
    },
    {
     "data": {
      "text/plain": [
       "0"
      ]
     },
     "execution_count": null,
     "metadata": {},
     "output_type": "execute_result"
    }
   ],
   "source": [
    "#hide\n",
    "\n",
    "record_dict = SeqIO.index(\"test_data/test.fasta\", \"fasta\")\n",
    "barcode_primer = Seq(\"CGCTCAGTTC\")\n",
    "ends = findAlingments(record_dict, barcode_primer, 200, 10)\n",
    "print(ends)\n",
    "np.sum(ends[:,-1] > 85)"
   ]
  },
  {
   "cell_type": "code",
   "execution_count": null,
   "metadata": {},
   "outputs": [],
   "source": [
    "def align_barcodes(primer_dict, record_dict, inward_end, max_alignments):\n",
    "    primer_keys = list(primer_dict.keys())\n",
    "    n_primers = len(primer_keys)\n",
    "    # alingments_array = np.zeros( (n_primers, max_alignments + 2) )\n",
    "    alingments = list( range(0, n_primers) )\n",
    "    for i in list(range(0, n_primers, 1)):\n",
    "        primer_seq_i = primer_dict[primer_keys[i]].seq\n",
    "        alingments[i] = findAlingments(record_dict, primer_seq_i, 200, max_alignments)\n",
    "    return(alingments)"
   ]
  },
  {
   "cell_type": "code",
   "execution_count": null,
   "metadata": {},
   "outputs": [
    {
     "data": {
      "text/plain": [
       "[array([[ 90., 187.,   0.,   0.,   0.,   2.,  70.],\n",
       "        [ 16.,  34.,  59.,  72., 153.,   5.,  60.],\n",
       "        [ 36., 149., 156., 179.,   0.,   4.,  60.]]),\n",
       " array([[ 43., 197.,   0.,   0.,   0.,   2.,  60.],\n",
       "        [121.,   0.,   0.,   0.,   0.,   1.,  70.],\n",
       "        [ 97., 186.,   0.,   0.,   0.,   2.,  60.]]),\n",
       " array([[  0.,   0.,   0.,   0.,   0.,   0.,   0.],\n",
       "        [  8.,   0.,   0.,   0.,   0.,   1.,  60.],\n",
       "        [138.,   0.,   0.,   0.,   0.,   1.,  70.]]),\n",
       " array([[ 94., 189.,   0.,   0.,   0.,   2.,  50.],\n",
       "        [ 76.,   0.,   0.,   0.,   0.,   1.,  70.],\n",
       "        [126.,   0.,   0.,   0.,   0.,   1.,  70.]]),\n",
       " array([[103., 118., 166.,   0.,   0.,   3.,  60.],\n",
       "        [ 86., 198.,   0.,   0.,   0.,   2.,  60.],\n",
       "        [108., 117.,   0.,   0.,   0.,   2.,  60.]]),\n",
       " array([[  0.,   0.,   0.,   0.,   0.,   0.,   0.],\n",
       "        [ 14.,  33.,  56.,  89., 177.,   5.,  50.],\n",
       "        [ 24.,  35.,   0.,   0.,   0.,   2.,  60.]])]"
      ]
     },
     "execution_count": null,
     "metadata": {},
     "output_type": "execute_result"
    }
   ],
   "source": [
    "#hide\n",
    "\n",
    "primer_dict = SeqIO.index(\"test_data/test_primer.fasta\", \"fasta\")\n",
    "record_dict = SeqIO.index(\"test_data/test.fasta\", \"fasta\")\n",
    "align_barcodes(primer_dict, record_dict, 200, 5)"
   ]
  },
  {
   "cell_type": "code",
   "execution_count": null,
   "metadata": {},
   "outputs": [
    {
     "name": "stdout",
     "output_type": "stream",
     "text": [
      "1756\n",
      "8514\n",
      "903\n",
      "1575\n",
      "2116\n",
      "76\n"
     ]
    }
   ],
   "source": [
    "#slow\n",
    "\n",
    "primer_dict = SeqIO.index(\"test_data/test_primer.fasta\", \"fasta\")\n",
    "record_dict = SeqIO.index(\"test_data/test.fastq\", \"fastq\")\n",
    "alginment_arrays = align_barcodes(primer_dict, record_dict, 200, 10)\n",
    "\n",
    "for i in alginment_arrays:\n",
    "    print(np.sum(i[:,-1] >= 85))\n",
    "    print(i[np.where(i[:,-1] >= 85),:])"
   ]
  }
 ],
 "metadata": {
  "kernelspec": {
   "display_name": "Python 3 (ipykernel)",
   "language": "python",
   "name": "python3"
  }
 },
 "nbformat": 4,
 "nbformat_minor": 4
}
