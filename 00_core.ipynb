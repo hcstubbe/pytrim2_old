{
 "cells": [
  {
   "cell_type": "code",
   "execution_count": null,
   "metadata": {},
   "outputs": [],
   "source": [
    "# default_exp core"
   ]
  },
  {
   "cell_type": "markdown",
   "metadata": {},
   "source": [
    "# pytrim2\n",
    "\n",
    "> A python program for trimming and demultiplexing naopore reads."
   ]
  },
  {
   "cell_type": "code",
   "execution_count": null,
   "metadata": {},
   "outputs": [],
   "source": [
    "#hide\n",
    "from nbdev.showdoc import *"
   ]
  },
  {
   "cell_type": "code",
   "execution_count": null,
   "metadata": {},
   "outputs": [],
   "source": [
    "#export\n",
    "# Import dependencies\n",
    "from Bio import SeqIO\n",
    "import numpy as np\n",
    "from Bio import Align\n",
    "from Bio import pairwise2"
   ]
  },
  {
   "cell_type": "code",
   "execution_count": null,
   "metadata": {},
   "outputs": [],
   "source": [
    "#export\n",
    "\n",
    "def findAdapter(seq_record, barcode_primer, cutOff):\n",
    "    # Alignment using pairwise2\n",
    "    alignments = pairwise2.align.localms(seq_record.seq, barcode_primer, 1, 0, -2, -2)\n",
    "\n",
    "    # Find best match\n",
    "    alingmentAccuracy = np.array( [i.score for i in alignments]  )\n",
    "    alingmentEnd = np.array( [i.end for i in alignments]  )\n",
    "    maxAcc = np.max(alingmentAccuracy)\n",
    "    maxAcc = np.max(alingmentAccuracy)\n",
    "    maxAccAlignment = np.where(alingmentAccuracy == maxAcc)[0]\n",
    "    inwardAlingmentEnd = np.max(alingmentEnd[maxAccAlignment])\n",
    "    \n",
    "    maxAcc = maxAcc / len(barcode_primer) * 100\n",
    "\n",
    "    if maxAcc >= cutOff:\n",
    "        print(\"TRUE\")\n",
    "    maxAcc = maxAcc\n",
    "    print(\"queried length:\", len(seq_record.seq), \"; accuracy [%]:\", maxAcc)"
   ]
  },
  {
   "cell_type": "code",
   "execution_count": null,
   "metadata": {},
   "outputs": [],
   "source": [
    "#export\n",
    "\n",
    "def findAlingments(record_dict, barcode_primer, inward_end):\n",
    "    \n",
    "    record_keys = list(record_dict.keys())\n",
    "    \n",
    "    aligner = Align.PairwiseAligner()\n",
    "    aligner.match_score = 1.0\n",
    "    aligner.mismatch_score = 0\n",
    "    aligner.gap_score = -2\n",
    "    aligner.mode = \"local\"\n",
    "    \n",
    "      \n",
    "    max_alignments = 10\n",
    "    n_sequences = len(record_keys[0:100])\n",
    "\n",
    "    array_cols = max_alignments + 2\n",
    "    al_array = np.zeros( (n_sequences, array_cols) )\n",
    "\n",
    "    for i in list(range(0, n_sequences, 1)):\n",
    "        al = []\n",
    "        seq = record_dict[record_keys[i]].seq[0:200]        \n",
    "        alignments = aligner.align(seq, barcode_primer)\n",
    "        len_alignments = len(alignments)\n",
    "        if(len_alignments <= max_alignments):\n",
    "            score = alignments.score\n",
    "            al = [j.aligned for j in alignments]\n",
    "            len_al = len(al)\n",
    "            for k in range(0, len_al):\n",
    "                al[k] = (al[k][0][0][1])\n",
    "            al_array[i, 0:len(al)] = al\n",
    "            al_array[i, -1] = len_al\n",
    "            al_array[i, -2] = alignments.score\n",
    "            \n",
    "    return(al_array)\n",
    "    \n",
    "    "
   ]
  },
  {
   "cell_type": "code",
   "execution_count": null,
   "metadata": {},
   "outputs": [],
   "source": [
    "#slow\n",
    "\n",
    "record_dict = SeqIO.index(\"test_data/test.fastq\", \"fastq\")\n",
    "barcode_primer = \"AATGCGAAG\"\n",
    "#findAlingments(record_dict, barcode_primer, 200)"
   ]
  },
  {
   "cell_type": "code",
   "execution_count": null,
   "metadata": {},
   "outputs": [],
   "source": [
    "#slow\n",
    "record_keys = list(record_dict.keys())\n",
    "    \n",
    "aligner = Align.PairwiseAligner()\n",
    "aligner.match_score = 1.0\n",
    "aligner.mismatch_score = 0\n",
    "aligner.gap_score = -2\n",
    "aligner.mode = \"local\"\n",
    "   \n",
    "max_alignments = 10\n",
    "n_sequences = len(record_keys[0:100])\n",
    "\n",
    "array_cols = max_alignments + 2\n",
    "al_array = np.zeros( (n_sequences, array_cols) )\n",
    "\n",
    "for i in list(range(0, n_sequences, 1)):\n",
    "    al = []\n",
    "    seq = record_dict[record_keys[i]].seq[0:200]        \n",
    "    alignments = aligner.align(seq, barcode_primer)\n",
    "    len_alignments = len(alignments)\n",
    "    if(len_alignments <= max_alignments):\n",
    "        score = alignments.score\n",
    "        al = [j.aligned for j in alignments]\n",
    "        len_al = len(al)\n",
    "        for k in range(0, len_al):\n",
    "            al[k] = (al[k][0][0][1])\n",
    "        al_array[i, 0:len(al)] = al\n",
    "        al_array[i, -1] = len_al\n",
    "        al_array[i, -2] = alignments.score\n",
    "\n"
   ]
  },
  {
   "cell_type": "code",
   "execution_count": null,
   "metadata": {},
   "outputs": [
    {
     "data": {
      "text/plain": [
       "array([[ 31.,  52., 115., 121., 124., 181.,   0.,   0.,   0.,   0.,   5.,\n",
       "          6.],\n",
       "       [  1.,   0.,   0.,   0.,   0.,   0.,   0.,   0.,   0.,   0.,   1.,\n",
       "          1.],\n",
       "       [  0.,   0.,   0.,   0.,   0.,   0.,   0.,   0.,   0.,   0.,   0.,\n",
       "          0.],\n",
       "       [ 24.,  29.,   0.,   0.,   0.,   0.,   0.,   0.,   0.,   0.,   6.,\n",
       "          2.],\n",
       "       [ 37.,   0.,   0.,   0.,   0.,   0.,   0.,   0.,   0.,   0.,   6.,\n",
       "          1.],\n",
       "       [200.,   0.,   0.,   0.,   0.,   0.,   0.,   0.,   0.,   0.,   7.,\n",
       "          1.],\n",
       "       [ 15.,  77., 113., 162., 180., 186.,   0.,   0.,   0.,   0.,   6.,\n",
       "          6.],\n",
       "       [ 34.,   0.,   0.,   0.,   0.,   0.,   0.,   0.,   0.,   0.,   6.,\n",
       "          1.],\n",
       "       [ 36.,   0.,   0.,   0.,   0.,   0.,   0.,   0.,   0.,   0.,   7.,\n",
       "          1.],\n",
       "       [ 29.,  74.,   0.,   0.,   0.,   0.,   0.,   0.,   0.,   0.,   6.,\n",
       "          2.],\n",
       "       [115.,   0.,   0.,   0.,   0.,   0.,   0.,   0.,   0.,   0.,   6.,\n",
       "          1.],\n",
       "       [ 59.,   0.,   0.,   0.,   0.,   0.,   0.,   0.,   0.,   0.,   6.,\n",
       "          1.],\n",
       "       [119.,   0.,   0.,   0.,   0.,   0.,   0.,   0.,   0.,   0.,   6.,\n",
       "          1.],\n",
       "       [ 58., 152., 180.,   0.,   0.,   0.,   0.,   0.,   0.,   0.,   6.,\n",
       "          3.],\n",
       "       [153., 151.,   0.,   0.,   0.,   0.,   0.,   0.,   0.,   0.,   5.,\n",
       "          2.],\n",
       "       [184.,   0.,   0.,   0.,   0.,   0.,   0.,   0.,   0.,   0.,   6.,\n",
       "          1.],\n",
       "       [ 26.,  75., 105., 161., 173., 176., 182.,   0.,   0.,   0.,   5.,\n",
       "          7.],\n",
       "       [ 90.,   0.,   0.,   0.,   0.,   0.,   0.,   0.,   0.,   0.,   7.,\n",
       "          1.],\n",
       "       [ 72., 141., 139., 151.,   0.,   0.,   0.,   0.,   0.,   0.,   6.,\n",
       "          4.]])"
      ]
     },
     "execution_count": null,
     "metadata": {},
     "output_type": "execute_result"
    }
   ],
   "source": [
    "al_array[1:20, ]"
   ]
  },
  {
   "cell_type": "code",
   "execution_count": null,
   "metadata": {},
   "outputs": [],
   "source": []
  },
  {
   "cell_type": "code",
   "execution_count": null,
   "metadata": {},
   "outputs": [],
   "source": []
  }
 ],
 "metadata": {
  "kernelspec": {
   "display_name": "Python 3 (ipykernel)",
   "language": "python",
   "name": "python3"
  }
 },
 "nbformat": 4,
 "nbformat_minor": 4
}
