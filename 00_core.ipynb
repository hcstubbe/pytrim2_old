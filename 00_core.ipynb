{
 "cells": [
  {
   "cell_type": "code",
   "execution_count": null,
   "metadata": {},
   "outputs": [],
   "source": [
    "# default_exp core"
   ]
  },
  {
   "cell_type": "markdown",
   "metadata": {},
   "source": [
    "# pytrim2\n",
    "\n",
    "> A python program for trimming and demultiplexing naopore reads."
   ]
  },
  {
   "cell_type": "code",
   "execution_count": null,
   "metadata": {},
   "outputs": [],
   "source": [
    "#hide\n",
    "from nbdev.showdoc import *"
   ]
  },
  {
   "cell_type": "code",
   "execution_count": null,
   "metadata": {},
   "outputs": [],
   "source": [
    "#export\n",
    "# Import dependencies\n",
    "from Bio import SeqIO\n",
    "import numpy as np\n",
    "from Bio import Align\n",
    "from Bio import pairwise2"
   ]
  },
  {
   "cell_type": "code",
   "execution_count": null,
   "metadata": {},
   "outputs": [],
   "source": [
    "#export\n",
    "\n",
    "def findAdapter(seq_record, barcode_primer, cutOff):\n",
    "    # Alignment using pairwise2\n",
    "    alignments = pairwise2.align.localms(seq_record.seq, barcode_primer, 1, 0, -2, -2)\n",
    "\n",
    "    # Find best match\n",
    "    alingmentAccuracy = np.array( [i.score for i in alignments]  )\n",
    "    alingmentEnd = np.array( [i.end for i in alignments]  )\n",
    "    maxAcc = np.max(alingmentAccuracy)\n",
    "    maxAcc = np.max(alingmentAccuracy)\n",
    "    maxAccAlignment = np.where(alingmentAccuracy == maxAcc)[0]\n",
    "    inwardAlingmentEnd = np.max(alingmentEnd[maxAccAlignment])\n",
    "    \n",
    "    maxAcc = maxAcc / len(barcode_primer) * 100\n",
    "\n",
    "    if maxAcc >= cutOff:\n",
    "        print(\"TRUE\")\n",
    "    maxAcc = maxAcc\n",
    "    print(\"queried length:\", len(seq_record.seq), \"; accuracy [%]:\", maxAcc)"
   ]
  },
  {
   "cell_type": "code",
   "execution_count": null,
   "metadata": {},
   "outputs": [],
   "source": [
    "#export\n",
    "\n",
    "def findAlingments(record_dict, barcode_primer, inward_end):\n",
    "    \n",
    "    record_keys = list(record_dict.keys())\n",
    "    \n",
    "    aligner = Align.PairwiseAligner()\n",
    "    aligner.match_score = 1.0\n",
    "    aligner.mismatch_score = 0\n",
    "    aligner.gap_score = -2\n",
    "    aligner.mode = \"local\"\n",
    "    \n",
    "    al = \"none\"\n",
    "    for i in record_keys:\n",
    "        al_array = np.zeros(10)\n",
    "        seq = record_dict[i].seq[0:200]        \n",
    "        alignments = aligner.align(seq, barcode_primer)\n",
    "        len_alignments = len(alignments)\n",
    "        if(len_alignments <= 10):\n",
    "            score = alignments.score\n",
    "            al = [i.aligned for i in alignments]\n",
    "            for i in [1,2,3]:\n",
    "                al = [x for xs in al for x in xs]\n",
    "            \n",
    "    return(al)\n",
    "    \n",
    "    "
   ]
  },
  {
   "cell_type": "code",
   "execution_count": null,
   "metadata": {},
   "outputs": [
    {
     "data": {
      "text/plain": [
       "[983, 991, 0, 8, 1151, 1160, 0, 9]"
      ]
     },
     "execution_count": null,
     "metadata": {},
     "output_type": "execute_result"
    }
   ],
   "source": [
    "#slow\n",
    "\n",
    "record_dict = SeqIO.index(\"test_data/test.fastq\", \"fastq\")\n",
    "barcode_primer = \"AATGCGAAG\"\n",
    "findAlingments(record_dict, barcode_primer, 200)"
   ]
  },
  {
   "cell_type": "code",
   "execution_count": null,
   "metadata": {},
   "outputs": [
    {
     "name": "stdout",
     "output_type": "stream",
     "text": [
      "[93, 101, 0, 8, 117, 125, 0, 8]\n"
     ]
    }
   ],
   "source": [
    "record_keys = list(record_dict.keys())\n",
    "    \n",
    "aligner = Align.PairwiseAligner()\n",
    "aligner.match_score = 1.0\n",
    "aligner.mismatch_score = 0\n",
    "aligner.gap_score = -2\n",
    "aligner.mode = \"local\"\n",
    "    \n",
    "al = \"none\"\n",
    "for i in record_keys[0:100]:\n",
    "    al_array = np.zeros(10)\n",
    "    seq = record_dict[i].seq[0:200]        \n",
    "    alignments = aligner.align(seq, barcode_primer)\n",
    "    len_alignments = len(alignments)\n",
    "    if(len_alignments <= 10):\n",
    "        score = alignments.score\n",
    "        al = [i.aligned for i in alignments]\n",
    "        for i in [1,2,3]:\n",
    "            al = [x for xs in al for x in xs]\n",
    "        \n",
    "\n",
    "print(al)\n",
    "\n"
   ]
  },
  {
   "cell_type": "code",
   "execution_count": null,
   "metadata": {},
   "outputs": [],
   "source": []
  }
 ],
 "metadata": {
  "kernelspec": {
   "display_name": "Python 3 (ipykernel)",
   "language": "python",
   "name": "python3"
  }
 },
 "nbformat": 4,
 "nbformat_minor": 4
}
