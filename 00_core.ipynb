{
 "cells": [
  {
   "cell_type": "code",
   "execution_count": null,
   "metadata": {},
   "outputs": [],
   "source": [
    "# default_exp core"
   ]
  },
  {
   "cell_type": "markdown",
   "metadata": {},
   "source": [
    "# pytrim2\n",
    "\n",
    "> A python program for trimming and demultiplexing naopore reads."
   ]
  },
  {
   "cell_type": "code",
   "execution_count": null,
   "metadata": {},
   "outputs": [],
   "source": [
    "#hide\n",
    "from nbdev.showdoc import *"
   ]
  },
  {
   "cell_type": "code",
   "execution_count": null,
   "metadata": {},
   "outputs": [],
   "source": [
    "#export\n",
    "# Import dependencies\n",
    "from Bio import SeqIO\n",
    "import numpy as np\n",
    "from Bio import Align\n",
    "from Bio import pairwise2"
   ]
  },
  {
   "cell_type": "code",
   "execution_count": null,
   "metadata": {},
   "outputs": [],
   "source": [
    "#export\n",
    "\n",
    "def findAdapter(seq_record, barcode_primer, cutOff):\n",
    "    # Alignment using pairwise2\n",
    "    alignments = pairwise2.align.localms(seq_record.seq, barcode_primer, 1, 0, -2, -2)\n",
    "\n",
    "    # Find best match\n",
    "    alingmentAccuracy = np.array( [i.score for i in alignments]  )\n",
    "    alingmentEnd = np.array( [i.end for i in alignments]  )\n",
    "    maxAcc = np.max(alingmentAccuracy)\n",
    "    maxAcc = np.max(alingmentAccuracy)\n",
    "    maxAccAlignment = np.where(alingmentAccuracy == maxAcc)[0]\n",
    "    inwardAlingmentEnd = np.max(alingmentEnd[maxAccAlignment])\n",
    "    \n",
    "    maxAcc = maxAcc / len(barcode_primer) * 100\n",
    "\n",
    "    if maxAcc >= cutOff:\n",
    "        print(\"TRUE\")\n",
    "    maxAcc = maxAcc\n",
    "    print(\"queried length:\", len(seq_record.seq), \"; accuracy [%]:\", maxAcc)"
   ]
  },
  {
   "cell_type": "code",
   "execution_count": null,
   "metadata": {},
   "outputs": [],
   "source": [
    "#export\n",
    "\n",
    "def findAlingments(record_dict, barcode_primer, inward_end, max_alignments):\n",
    "    \n",
    "    record_keys = list(record_dict.keys())\n",
    "\n",
    "    aligner = Align.PairwiseAligner()\n",
    "    aligner.match_score = 1.0\n",
    "    aligner.mismatch_score = 0\n",
    "    aligner.gap_score = -2\n",
    "    aligner.mode = \"local\"\n",
    "\n",
    "    n_sequences = len(record_keys)\n",
    "\n",
    "    array_cols = max_alignments + 2\n",
    "    al_array = np.zeros( (n_sequences, array_cols) )\n",
    "\n",
    "    for i in list(range(0, n_sequences, 1)):\n",
    "        al = []\n",
    "        seq = record_dict[record_keys[i]].seq[0:200]        \n",
    "        alignments = aligner.align(seq, barcode_primer)\n",
    "        len_alignments = len(alignments)\n",
    "        if(len_alignments <= max_alignments):\n",
    "            score = alignments.score\n",
    "            al = [j.aligned for j in alignments]\n",
    "            len_al = len(al)\n",
    "            for k in range(0, len_al):\n",
    "                al[k] = (al[k][0][0][1])\n",
    "            al_array[i, 0:len(al)] = al\n",
    "            al_array[i, -1] = len_al\n",
    "            al_array[i, -2] = alignments.score/len(barcode_primer)\n",
    "            \n",
    "    return(al_array)\n",
    "    \n",
    "    "
   ]
  },
  {
   "cell_type": "code",
   "execution_count": null,
   "metadata": {},
   "outputs": [
    {
     "name": "stdout",
     "output_type": "stream",
     "text": [
      "[[ 20.    0.    0.    0.    0.    0.    0.    0.    0.    0.    1.    1. ]\n",
      " [ 62.   73.    0.    0.    0.    0.    0.    0.    0.    0.    0.5   2. ]\n",
      " [192.    0.    0.    0.    0.    0.    0.    0.    0.    0.    0.5   1. ]]\n"
     ]
    }
   ],
   "source": [
    "#hide\n",
    "\n",
    "record_dict = SeqIO.index(\"test_data/test.fasta\", \"fasta\")\n",
    "barcode_primer = \"AGTGCCCCGCGCCACGCGCG\"\n",
    "ends = findAlingments(record_dict, barcode_primer, 200, 10)\n",
    "print(ends)\n"
   ]
  },
  {
   "cell_type": "code",
   "execution_count": null,
   "metadata": {},
   "outputs": [],
   "source": [
    "#slow\n",
    "record_keys = list(record_dict.keys())\n",
    "    \n",
    "aligner = Align.PairwiseAligner()\n",
    "aligner.match_score = 1.0\n",
    "aligner.mismatch_score = 0\n",
    "aligner.gap_score = -2\n",
    "aligner.mode = \"local\"\n",
    "   \n",
    "max_alignments = 10\n",
    "n_sequences = len(record_keys)\n",
    "\n",
    "array_cols = max_alignments + 2\n",
    "al_array = np.zeros( (n_sequences, array_cols) )\n",
    "\n",
    "for i in list(range(0, n_sequences, 1)):\n",
    "    al = []\n",
    "    seq = record_dict[record_keys[i]].seq[0:200]        \n",
    "    alignments = aligner.align(seq, barcode_primer)\n",
    "    len_alignments = len(alignments)\n",
    "    if(len_alignments <= max_alignments):\n",
    "        score = alignments.score\n",
    "        al = [j.aligned for j in alignments]\n",
    "        len_al = len(al)\n",
    "        for k in range(0, len_al):\n",
    "            al[k] = (al[k][0][0][1])\n",
    "        al_array[i, 0:len(al)] = al\n",
    "        al_array[i, -1] = len_al\n",
    "        al_array[i, -2] = alignments.score\n",
    "\n"
   ]
  }
 ],
 "metadata": {
  "kernelspec": {
   "display_name": "Python 3 (ipykernel)",
   "language": "python",
   "name": "python3"
  }
 },
 "nbformat": 4,
 "nbformat_minor": 4
}
