{
 "cells": [
  {
   "cell_type": "code",
   "execution_count": 22,
   "metadata": {},
   "outputs": [],
   "source": [
    "#| default_exp core"
   ]
  },
  {
   "cell_type": "markdown",
   "metadata": {},
   "source": [
    "# pytrim2\n",
    "\n",
    "> A python program for trimming and demultiplexing nanopore reads."
   ]
  },
  {
   "cell_type": "code",
   "execution_count": 34,
   "metadata": {},
   "outputs": [],
   "source": [
    "#| hide\n",
    "from nbdev.showdoc import *"
   ]
  },
  {
   "cell_type": "code",
   "execution_count": 35,
   "metadata": {},
   "outputs": [],
   "source": [
    "#| export\n",
    "\n",
    "# Import dependencies\n",
    "from Bio import SeqIO\n",
    "from Bio import Align\n",
    "from Bio.Seq import Seq\n",
    "import numpy as np"
   ]
  },
  {
   "cell_type": "code",
   "execution_count": 36,
   "metadata": {},
   "outputs": [],
   "source": [
    "#| export\n",
    "\n",
    "def findAlingments(seq_record, primer_dict, inward_end, max_alignments):\n",
    "    \"Find alignments for each primer in a sequence record\"\n",
    "    primer_keys = list(primer_dict.keys())\n",
    "  \n",
    "    aligner = Align.PairwiseAligner()\n",
    "    aligner.match_score = 1.0\n",
    "    aligner.mismatch_score = 0\n",
    "    aligner.gap_score = -2\n",
    "    aligner.mode = \"local\"\n",
    "\n",
    "    n_sequences = len(primer_keys)\n",
    "\n",
    "    array_cols = max_alignments + 3\n",
    "    al_array = np.zeros( (n_sequences, array_cols) )\n",
    "\n",
    "    for i in list(range(0, n_sequences, 1)):\n",
    "        al = []\n",
    "        seq = primer_dict[primer_keys[i]].seq        \n",
    "        alignments = aligner.align(seq_record[0:inward_end], seq)\n",
    "        len_alignments = len(alignments)\n",
    "        if(len_alignments <= max_alignments):\n",
    "            score = alignments.score\n",
    "            al = [j.aligned for j in alignments]\n",
    "            len_al = len(al)\n",
    "            for k in range(0, len_al):\n",
    "                al[k] = (al[k][0][0][1])\n",
    "            al_array[i, 0:len(al)] = al # ends of each alignment\n",
    "            al_array[i, -3] = max(al) # maximum posistion of each alignment\n",
    "            al_array[i, -2] = len_alignments # number of alingments\n",
    "            al_array[i, -1] = np.around(alignments.score/len(seq)*100, 0) # normalized local alingnment score\n",
    "            \n",
    "    return(al_array)\n",
    "    \n",
    "    "
   ]
  },
  {
   "cell_type": "code",
   "execution_count": 37,
   "metadata": {},
   "outputs": [
    {
     "name": "stdout",
     "output_type": "stream",
     "text": [
      "[[ 21.   0.   0.  21.   1. 100.]\n",
      " [ 37.   0.   0.  37.   1.  60.]\n",
      " [ 38.   0.   0.  38.   1. 100.]\n",
      " [  8.   0.   0.   8.   1.  60.]\n",
      " [  0.   0.   0.   0.   0.   0.]\n",
      " [ 60.   0.   0.  60.   1. 100.]]\n"
     ]
    }
   ],
   "source": [
    "#| hide\n",
    "\n",
    "primer_dict = SeqIO.index(\"test_data/test_primer.fasta\", \"fasta\")\n",
    "seq_record = Seq(\"TGATGTAAGTACGCTCAGTTCGATATCGATATGAGACGGATTAGGAGGGGGCGCGATGTTGTGTGGGAAAA\")\n",
    "ends = findAlingments(seq_record, primer_dict, 200, 3)\n",
    "\n",
    "print(ends)"
   ]
  },
  {
   "cell_type": "code",
   "execution_count": 38,
   "metadata": {},
   "outputs": [],
   "source": [
    "#| export\n",
    "\n",
    "def align_barcodes(primer_dict, record_dict, inward_end, max_alignments):\n",
    "    \"Aligne all barcodes in a list of seq records\"\n",
    "    \n",
    "    record_keys = list(record_dict.keys())\n",
    "    n_sequences = len(record_keys)\n",
    "    \n",
    "    alingments = list( range(0, n_sequences) )\n",
    "    for i in list(range(0, n_sequences, 1)):\n",
    "        seq_i = record_dict[record_keys[i]].seq\n",
    "    \n",
    "        alingments[i] = findAlingments(seq_i, primer_dict, inward_end, max_alignments)\n",
    "    return(alingments)"
   ]
  },
  {
   "cell_type": "code",
   "execution_count": 39,
   "metadata": {},
   "outputs": [
    {
     "data": {
      "text/plain": [
       "[array([[ 24.,   0.,   0.,   0.,   0.,  24.,   1., 100.],\n",
       "        [ 43., 197.,   0.,   0.,   0., 197.,   2.,  60.],\n",
       "        [ 75., 100., 103., 109.,   0., 109.,   4.,  50.],\n",
       "        [ 94., 189.,   0.,   0.,   0., 189.,   2.,  50.],\n",
       "        [ 27., 103., 118.,   0.,   0., 118.,   3.,  60.],\n",
       "        [ 18.,   0.,   0.,   0.,   0.,  18.,   1.,  70.]]),\n",
       " array([[ 16.,  59.,  72., 153.,   0., 153.,   4.,  60.],\n",
       "        [ 31.,   0.,   0.,   0.,   0.,  31.,   1., 100.],\n",
       "        [  8.,  29.,   0.,   0.,   0.,  29.,   2.,  60.],\n",
       "        [ 76.,   0.,   0.,   0.,   0.,  76.,   1.,  70.],\n",
       "        [ 30.,  86., 198.,   0.,   0., 198.,   3.,  60.],\n",
       "        [ 14.,  22.,  56.,  89., 177., 177.,   5.,  50.]]),\n",
       " array([[149., 156., 179.,   0.,   0., 179.,   3.,  60.],\n",
       "        [ 28.,  97., 186.,   0.,   0., 186.,   3.,  60.],\n",
       "        [ 29.,   0.,   0.,   0.,   0.,  29.,   1., 100.],\n",
       "        [126.,   0.,   0.,   0.,   0., 126.,   1.,  70.],\n",
       "        [108., 117.,   0.,   0.,   0., 117.,   2.,  60.],\n",
       "        [  0.,   0.,   0.,   0.,   0.,   0.,   0.,   0.]])]"
      ]
     },
     "execution_count": 39,
     "metadata": {},
     "output_type": "execute_result"
    }
   ],
   "source": [
    "#| hide\n",
    "\n",
    "primer_dict = SeqIO.index(\"test_data/test_primer.fasta\", \"fasta\")\n",
    "record_dict = SeqIO.index(\"test_data/test.fasta\", \"fasta\")\n",
    "alginment_arrays = align_barcodes(primer_dict, record_dict, 200, 5)\n",
    "alginment_arrays"
   ]
  },
  {
   "cell_type": "code",
   "execution_count": 40,
   "metadata": {},
   "outputs": [
    {
     "name": "stdout",
     "output_type": "stream",
     "text": [
      "1\n",
      "[[[ 24.   0.   0.   0.   0.  24.   1. 100.]]]\n",
      "1\n",
      "[[[ 31.   0.   0.   0.   0.  31.   1. 100.]]]\n",
      "1\n",
      "[[[ 29.   0.   0.   0.   0.  29.   1. 100.]]]\n"
     ]
    }
   ],
   "source": [
    "#| hide\n",
    "\n",
    "x = np.zeros( (1, len(alginment_arrays)) )\n",
    "for i in alginment_arrays:\n",
    "    print(np.sum((i[:,-1] >= 85) & (i[:,-2] == 1)))\n",
    "    print(i[np.where(i[:,-1] >= 85),:])"
   ]
  },
  {
   "cell_type": "code",
   "execution_count": 41,
   "metadata": {},
   "outputs": [
    {
     "ename": "FileNotFoundError",
     "evalue": "[Errno 2] No such file or directory: 'test_data/test.fastq'",
     "output_type": "error",
     "traceback": [
      "\u001b[0;31m---------------------------------------------------------------------------\u001b[0m",
      "\u001b[0;31mFileNotFoundError\u001b[0m                         Traceback (most recent call last)",
      "\u001b[0;32m/tmp/ipykernel_1345026/307393815.py\u001b[0m in \u001b[0;36m<module>\u001b[0;34m\u001b[0m\n\u001b[1;32m      2\u001b[0m \u001b[0;34m\u001b[0m\u001b[0m\n\u001b[1;32m      3\u001b[0m \u001b[0mprimer_dict\u001b[0m \u001b[0;34m=\u001b[0m \u001b[0mSeqIO\u001b[0m\u001b[0;34m.\u001b[0m\u001b[0mindex\u001b[0m\u001b[0;34m(\u001b[0m\u001b[0;34m\"test_data/test_primer.fasta\"\u001b[0m\u001b[0;34m,\u001b[0m \u001b[0;34m\"fasta\"\u001b[0m\u001b[0;34m)\u001b[0m\u001b[0;34m\u001b[0m\u001b[0;34m\u001b[0m\u001b[0m\n\u001b[0;32m----> 4\u001b[0;31m \u001b[0mrecord_dict\u001b[0m \u001b[0;34m=\u001b[0m \u001b[0mSeqIO\u001b[0m\u001b[0;34m.\u001b[0m\u001b[0mindex\u001b[0m\u001b[0;34m(\u001b[0m\u001b[0;34m\"test_data/test.fastq\"\u001b[0m\u001b[0;34m,\u001b[0m \u001b[0;34m\"fastq\"\u001b[0m\u001b[0;34m)\u001b[0m\u001b[0;34m\u001b[0m\u001b[0;34m\u001b[0m\u001b[0m\n\u001b[0m\u001b[1;32m      5\u001b[0m \u001b[0malginment_arrays\u001b[0m \u001b[0;34m=\u001b[0m \u001b[0malign_barcodes\u001b[0m\u001b[0;34m(\u001b[0m\u001b[0mprimer_dict\u001b[0m\u001b[0;34m,\u001b[0m \u001b[0mrecord_dict\u001b[0m\u001b[0;34m,\u001b[0m \u001b[0;36m200\u001b[0m\u001b[0;34m,\u001b[0m \u001b[0;36m10\u001b[0m\u001b[0;34m)\u001b[0m\u001b[0;34m\u001b[0m\u001b[0;34m\u001b[0m\u001b[0m\n\u001b[1;32m      6\u001b[0m \u001b[0;34m\u001b[0m\u001b[0m\n",
      "\u001b[0;32m~/.local/lib/python3.8/site-packages/Bio/SeqIO/__init__.py\u001b[0m in \u001b[0;36mindex\u001b[0;34m(filename, format, alphabet, key_function)\u001b[0m\n\u001b[1;32m    978\u001b[0m     )\n\u001b[1;32m    979\u001b[0m     return _IndexedSeqFileDict(\n\u001b[0;32m--> 980\u001b[0;31m         \u001b[0mproxy_class\u001b[0m\u001b[0;34m(\u001b[0m\u001b[0mfilename\u001b[0m\u001b[0;34m,\u001b[0m \u001b[0mformat\u001b[0m\u001b[0;34m,\u001b[0m \u001b[0malphabet\u001b[0m\u001b[0;34m)\u001b[0m\u001b[0;34m,\u001b[0m \u001b[0mkey_function\u001b[0m\u001b[0;34m,\u001b[0m \u001b[0mrepr\u001b[0m\u001b[0;34m,\u001b[0m \u001b[0;34m\"SeqRecord\"\u001b[0m\u001b[0;34m\u001b[0m\u001b[0;34m\u001b[0m\u001b[0m\n\u001b[0m\u001b[1;32m    981\u001b[0m     )\n\u001b[1;32m    982\u001b[0m \u001b[0;34m\u001b[0m\u001b[0m\n",
      "\u001b[0;32m~/.local/lib/python3.8/site-packages/Bio/SeqIO/_index.py\u001b[0m in \u001b[0;36m__init__\u001b[0;34m(self, filename, format, alphabet)\u001b[0m\n\u001b[1;32m     44\u001b[0m     \u001b[0;32mdef\u001b[0m \u001b[0m__init__\u001b[0m\u001b[0;34m(\u001b[0m\u001b[0mself\u001b[0m\u001b[0;34m,\u001b[0m \u001b[0mfilename\u001b[0m\u001b[0;34m,\u001b[0m \u001b[0mformat\u001b[0m\u001b[0;34m,\u001b[0m \u001b[0malphabet\u001b[0m\u001b[0;34m)\u001b[0m\u001b[0;34m:\u001b[0m\u001b[0;34m\u001b[0m\u001b[0;34m\u001b[0m\u001b[0m\n\u001b[1;32m     45\u001b[0m         \u001b[0;34m\"\"\"Initialize the class.\"\"\"\u001b[0m\u001b[0;34m\u001b[0m\u001b[0;34m\u001b[0m\u001b[0m\n\u001b[0;32m---> 46\u001b[0;31m         \u001b[0mself\u001b[0m\u001b[0;34m.\u001b[0m\u001b[0m_handle\u001b[0m \u001b[0;34m=\u001b[0m \u001b[0m_open_for_random_access\u001b[0m\u001b[0;34m(\u001b[0m\u001b[0mfilename\u001b[0m\u001b[0;34m)\u001b[0m\u001b[0;34m\u001b[0m\u001b[0;34m\u001b[0m\u001b[0m\n\u001b[0m\u001b[1;32m     47\u001b[0m         \u001b[0mself\u001b[0m\u001b[0;34m.\u001b[0m\u001b[0m_alphabet\u001b[0m \u001b[0;34m=\u001b[0m \u001b[0malphabet\u001b[0m\u001b[0;34m\u001b[0m\u001b[0;34m\u001b[0m\u001b[0m\n\u001b[1;32m     48\u001b[0m         \u001b[0mself\u001b[0m\u001b[0;34m.\u001b[0m\u001b[0m_format\u001b[0m \u001b[0;34m=\u001b[0m \u001b[0mformat\u001b[0m\u001b[0;34m\u001b[0m\u001b[0;34m\u001b[0m\u001b[0m\n",
      "\u001b[0;32m~/.local/lib/python3.8/site-packages/Bio/File.py\u001b[0m in \u001b[0;36m_open_for_random_access\u001b[0;34m(filename)\u001b[0m\n\u001b[1;32m    132\u001b[0m     \u001b[0mIf\u001b[0m \u001b[0mthe\u001b[0m \u001b[0mfile\u001b[0m \u001b[0;32mis\u001b[0m \u001b[0mgzipped\u001b[0m \u001b[0mbut\u001b[0m \u001b[0;32mnot\u001b[0m \u001b[0mBGZF\u001b[0m\u001b[0;34m,\u001b[0m \u001b[0ma\u001b[0m \u001b[0mspecific\u001b[0m \u001b[0mValueError\u001b[0m \u001b[0;32mis\u001b[0m \u001b[0mraised\u001b[0m\u001b[0;34m.\u001b[0m\u001b[0;34m\u001b[0m\u001b[0;34m\u001b[0m\u001b[0m\n\u001b[1;32m    133\u001b[0m     \"\"\"\n\u001b[0;32m--> 134\u001b[0;31m     \u001b[0mhandle\u001b[0m \u001b[0;34m=\u001b[0m \u001b[0mopen\u001b[0m\u001b[0;34m(\u001b[0m\u001b[0mfilename\u001b[0m\u001b[0;34m,\u001b[0m \u001b[0;34m\"rb\"\u001b[0m\u001b[0;34m)\u001b[0m\u001b[0;34m\u001b[0m\u001b[0;34m\u001b[0m\u001b[0m\n\u001b[0m\u001b[1;32m    135\u001b[0m     \u001b[0mmagic\u001b[0m \u001b[0;34m=\u001b[0m \u001b[0mhandle\u001b[0m\u001b[0;34m.\u001b[0m\u001b[0mread\u001b[0m\u001b[0;34m(\u001b[0m\u001b[0;36m2\u001b[0m\u001b[0;34m)\u001b[0m\u001b[0;34m\u001b[0m\u001b[0;34m\u001b[0m\u001b[0m\n\u001b[1;32m    136\u001b[0m     \u001b[0mhandle\u001b[0m\u001b[0;34m.\u001b[0m\u001b[0mseek\u001b[0m\u001b[0;34m(\u001b[0m\u001b[0;36m0\u001b[0m\u001b[0;34m)\u001b[0m\u001b[0;34m\u001b[0m\u001b[0;34m\u001b[0m\u001b[0m\n",
      "\u001b[0;31mFileNotFoundError\u001b[0m: [Errno 2] No such file or directory: 'test_data/test.fastq'"
     ]
    }
   ],
   "source": [
    "#| slow\n",
    "\n",
    "primer_dict = SeqIO.index(\"test_data/test_primer.fasta\", \"fasta\")\n",
    "record_dict = SeqIO.index(\"test_data/test.fastq\", \"fastq\")\n",
    "alginment_arrays = align_barcodes(primer_dict, record_dict, 200, 10)\n",
    "\n",
    "for i in alginment_arrays:\n",
    "    print(np.sum(i[:,-1] >= 85))\n",
    "    print(i[np.where(i[:,-1] >= 85),:])"
   ]
  },
  {
   "cell_type": "code",
   "execution_count": 71,
   "metadata": {},
   "outputs": [],
   "source": [
    "#| export\n",
    "\n",
    "def decide_barcode_id(alginment_arrays):\n",
    "    \"Decide which barcode is best hit; remove if tie\"\n",
    "    \n",
    "    id_array = np.zeros((np.shape(alginment_arrays)[0],3), dtype=np.int64)\n",
    "    for i in range(0, np.shape(alginment_arrays)[0]):\n",
    "        array_i = alginment_arrays[i]\n",
    "        id_i = np.where(array_i[:,-1] == np.max(array_i[:,-1]))[0]\n",
    "        if len(id_i) == 1:\n",
    "            id_array[i,0] = id_i\n",
    "            id_array[i,1] = array_i[id_i,-3]\n",
    "            id_array[i,2] = array_i[id_i,-1]\n",
    "        elif len(id_i) >= 1:\n",
    "            id_array[i,0] =  -1\n",
    "            id_array[i,1] = 0\n",
    "            id_array[i,2] = 0\n",
    "        \n",
    "        \n",
    "    return(id_array)"
   ]
  },
  {
   "cell_type": "code",
   "execution_count": 63,
   "metadata": {},
   "outputs": [
    {
     "data": {
      "text/plain": [
       "array([[  0,  24, 100],\n",
       "       [  1,  31, 100],\n",
       "       [  2,  29, 100]])"
      ]
     },
     "execution_count": 63,
     "metadata": {},
     "output_type": "execute_result"
    }
   ],
   "source": [
    "#| hide\n",
    "\n",
    "seq_barcode_ids = decide_barcode_id(alginment_arrays)\n",
    "seq_barcode_ids"
   ]
  },
  {
   "cell_type": "code",
   "execution_count": 44,
   "metadata": {},
   "outputs": [],
   "source": [
    "#| export\n",
    "\n",
    "# Trim barcodes of sequence\n",
    "def trim_record(seq_record, primer_end_position):\n",
    "    x = seq_record\n",
    "    x =  x[primer_end_position:]\n",
    "    return(x)"
   ]
  },
  {
   "cell_type": "code",
   "execution_count": 64,
   "metadata": {},
   "outputs": [
    {
     "data": {
      "text/plain": [
       "True"
      ]
     },
     "execution_count": 64,
     "metadata": {},
     "output_type": "execute_result"
    }
   ],
   "source": [
    "#| hide\n",
    "\n",
    "record_keys = list(record_dict.keys())\n",
    "record_x = record_dict[record_keys[0]]\n",
    "len_old = len(record_x.seq)\n",
    "\n",
    "record_x_new = trim_record(record_x, 3)\n",
    "\n",
    "(len(record_x_new.seq) + 3) == len_old\n"
   ]
  },
  {
   "cell_type": "code",
   "execution_count": 73,
   "metadata": {},
   "outputs": [],
   "source": [
    "#| export\n",
    "\n",
    "def sort_records_to_file(record_dict, primer_dict, output_folder, alginment_arrays, input_file_type):\n",
    "    \"Sort records into new files based on barcodes and name files after barcodes\"\n",
    "    \n",
    "    seq_barcode_res = decide_barcode_id(alginment_arrays)\n",
    "    seq_barcode_ids = seq_barcode_res[:,0]\n",
    "    seq_barcode_end_pos = seq_barcode_res[:,1]\n",
    "    seq_barcode_match = seq_barcode_res[:,2]\n",
    "    primer_keys = list(primer_dict.keys())\n",
    "    record_keys = list(record_dict.keys())\n",
    "    record_numbers = range(0, len(record_keys))\n",
    "\n",
    "    for k in range(0, len(primer_dict)):\n",
    "        seq_iterator_k = (trim_record(record_dict[record_keys[i]], seq_barcode_end_pos[i]) for i in record_numbers if seq_barcode_ids[i] == k if seq_barcode_match[i] >= 85)\n",
    "        SeqIO.write(seq_iterator_k, output_folder + \"/\" + primer_dict[primer_keys[k]].name + \"_seqs.\" + input_file_type, input_file_type)\n",
    "\n",
    "    "
   ]
  },
  {
   "cell_type": "code",
   "execution_count": 75,
   "metadata": {},
   "outputs": [],
   "source": [
    "#| hide\n",
    "\n",
    "sort_records_to_file(record_dict, primer_dict, \"test_data/test_out\", alginment_arrays, \"fasta\")"
   ]
  },
  {
   "cell_type": "code",
   "execution_count": 76,
   "metadata": {},
   "outputs": [],
   "source": [
    "#| export\n",
    "\n",
    "def demultiplex(input_file, input_file_type, primer_file, primer_file_type, output_folder, max_distance, max_alignments):\n",
    "    \"Run the program\"\n",
    "    \n",
    "    primer_dict = SeqIO.index(primer_file, primer_file_type)\n",
    "    record_dict = SeqIO.index(input_file, input_file_type)\n",
    "    alginment_arrays = align_barcodes(primer_dict, record_dict, max_distance, max_alignments)\n",
    "    sort_records_to_file(record_dict, primer_dict, output_folder, alginment_arrays, input_file_type)"
   ]
  },
  {
   "cell_type": "code",
   "execution_count": 77,
   "metadata": {},
   "outputs": [],
   "source": [
    "#| hide\n",
    "demultiplex(\"test_data/test.fasta\", \"fasta\", \"test_data/test_primer.fasta\", \"fasta\", \"test_data/test_out\", 200, 5)"
   ]
  },
  {
   "cell_type": "code",
   "execution_count": 78,
   "metadata": {},
   "outputs": [],
   "source": [
    "#| hide\n",
    "demultiplex(\"/dss/dsshome1/lxc0F/ru75jul2/testcat/out/all.fastq\", \"fastq\", \"test_data/test_primer.fasta\", \"fasta\", \"/dss/dsshome1/lxc0F/ru75jul2/testcat/out/testout\", 200, 5)"
   ]
  },
  {
   "cell_type": "code",
   "execution_count": null,
   "metadata": {},
   "outputs": [],
   "source": [
    "#| slow\n",
    "\n",
    "# mock\n",
    "demultiplex(\"/dss/dsshome1/lxc0F/ru75jul2/seq_data/all_mock.fastq\", \"fastq\", \"test_data/test_primer.fasta\", \"fasta\", \"/dss/dsshome1/lxc0F/ru75jul2/seq_data/adv_out/mock/\", 200, 3)"
   ]
  },
  {
   "cell_type": "code",
   "execution_count": null,
   "metadata": {},
   "outputs": [],
   "source": [
    "#| slow\n",
    "\n",
    "# wt\n",
    "demultiplex(\"/dss/dsshome1/lxc0F/ru75jul2/seq_data/all_wt.fastq\", \"fastq\", \"test_data/test_primer.fasta\", \"fasta\", \"/dss/dsshome1/lxc0F/ru75jul2/seq_data/adv_out/wt/\", 200, 3)"
   ]
  }
 ],
 "metadata": {
  "kernelspec": {
   "display_name": "Python 3 (ipykernel)",
   "language": "python",
   "name": "python3"
  },
  "language_info": {
   "codemirror_mode": {
    "name": "ipython",
    "version": 3
   },
   "file_extension": ".py",
   "mimetype": "text/x-python",
   "name": "python",
   "nbconvert_exporter": "python",
   "pygments_lexer": "ipython3",
   "version": "3.8.12"
  }
 },
 "nbformat": 4,
 "nbformat_minor": 4
}
