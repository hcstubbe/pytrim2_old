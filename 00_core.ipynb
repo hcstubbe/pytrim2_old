{
 "cells": [
  {
   "cell_type": "code",
   "execution_count": null,
   "metadata": {},
   "outputs": [],
   "source": [
    "# default_exp core"
   ]
  },
  {
   "cell_type": "markdown",
   "metadata": {},
   "source": [
    "# pytrim2\n",
    "\n",
    "> A python program for trimming and demultiplexing naopore reads."
   ]
  },
  {
   "cell_type": "code",
   "execution_count": null,
   "metadata": {},
   "outputs": [],
   "source": [
    "#hide\n",
    "from nbdev.showdoc import *"
   ]
  },
  {
   "cell_type": "code",
   "execution_count": null,
   "metadata": {},
   "outputs": [],
   "source": [
    "#export\n",
    "# Import dependencies\n",
    "from Bio import SeqIO\n",
    "import numpy as np\n",
    "from Bio import Align\n",
    "from Bio import pairwise2"
   ]
  },
  {
   "cell_type": "code",
   "execution_count": null,
   "metadata": {},
   "outputs": [],
   "source": [
    "#export\n",
    "\n",
    "def findAdapter(seq_record, barcode_primer, cutOff):\n",
    "    # Alignment using pairwise2\n",
    "    alignments = pairwise2.align.localms(seq_record.seq, barcode_primer, 1, 0, -2, -2)\n",
    "\n",
    "    # Find best match\n",
    "    alingmentAccuracy = np.array( [i.score for i in alignments]  )\n",
    "    alingmentEnd = np.array( [i.end for i in alignments]  )\n",
    "    maxAcc = np.max(alingmentAccuracy)\n",
    "    maxAcc = np.max(alingmentAccuracy)\n",
    "    maxAccAlignment = np.where(alingmentAccuracy == maxAcc)[0]\n",
    "    inwardAlingmentEnd = np.max(alingmentEnd[maxAccAlignment])\n",
    "    \n",
    "    maxAcc = maxAcc / len(barcode_primer) * 100\n",
    "\n",
    "    if maxAcc >= cutOff:\n",
    "        print(\"TRUE\")\n",
    "    maxAcc = maxAcc\n",
    "    print(\"queried length:\", len(seq_record.seq), \"; accuracy [%]:\", maxAcc)"
   ]
  },
  {
   "cell_type": "code",
   "execution_count": null,
   "metadata": {},
   "outputs": [],
   "source": [
    "#export\n",
    "\n",
    "def findAlingments(record_dict, barcode_primer, inward_end):\n",
    "    \n",
    "    recordKeys = list(record_dict.keys())\n",
    "    \n",
    "    aligner = Align.PairwiseAligner()\n",
    "    aligner.match_score = 1.0\n",
    "    aligner.mismatch_score = 0\n",
    "    aligner.gap_score = -2\n",
    "    aligner.mode = \"local\"\n",
    "    \n",
    "    al = \"none\"\n",
    "    for i in record_keys:\n",
    "        seq = record_dict[i].seq[0:inward_end]        \n",
    "        alignments = aligner.align(seq, barcode_primer)\n",
    "        score = alignments.score\n",
    "        if(len(alignments)) <= 3:\n",
    "            al = alignments[0].aligned[0][0]\n",
    "            \n",
    "    return(al)\n",
    "    \n",
    "    "
   ]
  },
  {
   "cell_type": "code",
   "execution_count": null,
   "metadata": {},
   "outputs": [
    {
     "data": {
      "text/plain": [
       "(57, 66)"
      ]
     },
     "execution_count": null,
     "metadata": {},
     "output_type": "execute_result"
    }
   ],
   "source": [
    "#slow\n",
    "\n",
    "recordDict = SeqIO.index(\"test_data/test.fastq\", \"fastq\")\n",
    "barcode_primer = \"AATGCGAAG\"\n",
    "findAlingments(record_dict, barcode_primer, 200)"
   ]
  },
  {
   "cell_type": "code",
   "execution_count": null,
   "metadata": {},
   "outputs": [],
   "source": []
  }
 ],
 "metadata": {
  "kernelspec": {
   "display_name": "Python 3 (ipykernel)",
   "language": "python",
   "name": "python3"
  }
 },
 "nbformat": 4,
 "nbformat_minor": 4
}
